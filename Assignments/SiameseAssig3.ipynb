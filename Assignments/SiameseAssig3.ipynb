{
  "nbformat": 4,
  "nbformat_minor": 0,
  "metadata": {
    "colab": {
      "provenance": [],
      "gpuType": "T4"
    },
    "kernelspec": {
      "name": "python3",
      "display_name": "Python 3"
    },
    "language_info": {
      "name": "python"
    },
    "accelerator": "GPU"
  },
  "cells": [
    {
      "cell_type": "markdown",
      "source": [
        "Tasks:\n",
        "1. Dataset Preparation\n",
        "\n",
        "a. Load the dataset.\n",
        "\n",
        "b. Create pairs of images:\n",
        "\n",
        "i. Positive pairs: Two images belonging to the same\n",
        "class.\n",
        "\n",
        "ii. Negative pairs: Two images belonging to different\n",
        "classes.\n",
        "\n",
        "c. Create labels for each pair (1 for positive pairs, 0 for\n",
        "negative pairs).\n",
        "\n",
        "2. Network Design\n",
        "\n",
        "a. Design a Siamese network using a shared base network (e.g.,\n",
        "a simple CNN).\n",
        "\n",
        "b. Add a distance metric (L1 distance) to compute the\n",
        "similarity between feature embeddings.\n",
        "\n",
        "c. Implement\n",
        "\n",
        "a final decision layer for classification using a\n",
        "sigmoid activation function.\n",
        "\n",
        "3. Training the Network\n",
        "\n",
        "a. Split the data into training and validation sets.\n",
        "\n",
        "b. Train the Siamese network using contrastive loss.\n",
        "\n",
        "c. Tune hyperparameters such as learning rate, batch size, and\n",
        "network architecture.\n",
        "\n",
        "4. Evaluation and Analysis\n",
        "\n",
        "a. Evaluate the network on a separate test set by calculating\n",
        "metrics such as accuracy, precision, recall, and F1 score."
      ],
      "metadata": {
        "id": "0seG5jbNYKFG"
      }
    },
    {
      "cell_type": "code",
      "execution_count": 1,
      "metadata": {
        "id": "QWZfU6gnR7JZ"
      },
      "outputs": [],
      "source": [
        "import numpy as np\n",
        "import tensorflow as tf\n",
        "from tensorflow.keras import layers, Model\n",
        "from tensorflow.keras.datasets import fashion_mnist\n",
        "from sklearn.metrics import accuracy_score, precision_score, recall_score, f1_score\n",
        "import matplotlib.pyplot as plt\n",
        "from tensorflow.keras.callbacks import EarlyStopping"
      ]
    },
    {
      "cell_type": "code",
      "source": [
        "def make_pairs(images, labels):\n",
        "    pairImages = []\n",
        "    pairLabels = []\n",
        "    numClasses = len(np.unique(labels))\n",
        "    idx = [np.where(labels == i)[0] for i in range(0, numClasses)]\n",
        "    for idxA in range(len(images)):\n",
        "        currentImage = images[idxA]\n",
        "        label = labels[idxA]\n",
        "        idxB = np.random.choice(idx[label])\n",
        "        posImage = images[idxB]\n",
        "        pairImages.append([currentImage, posImage])\n",
        "        pairLabels.append([0])  # Similar pair\n",
        "        negIdx = np.where(labels != label)[0]\n",
        "        negImage = images[np.random.choice(negIdx)]\n",
        "        pairImages.append([currentImage, negImage])\n",
        "        pairLabels.append([1])  # Dissimilar pair\n",
        "\n",
        "    return (np.array(pairImages), np.array(pairLabels))\n"
      ],
      "metadata": {
        "id": "9tQJWkSATqAh"
      },
      "execution_count": 2,
      "outputs": []
    },
    {
      "cell_type": "code",
      "source": [
        "def l1_distance(vects):\n",
        "    x, y = vects\n",
        "    return tf.math.reduce_sum(tf.abs(x - y), axis=1, keepdims=True)\n",
        "\n",
        "def contrastive_loss(y_true, y_pred, margin=1.0):\n",
        "    square_pred = tf.math.square(y_pred)\n",
        "    margin_square = tf.math.square(tf.math.maximum(margin - y_pred, 0))\n",
        "    return tf.math.reduce_mean((1 - y_true) * square_pred + y_true * margin_square)\n"
      ],
      "metadata": {
        "id": "E8CYlOh8VaMs"
      },
      "execution_count": 3,
      "outputs": []
    },
    {
      "cell_type": "code",
      "source": [
        "def build_CNN_model(inputShape, embeddingDim=128):\n",
        "    inputs = layers.Input(inputShape, name='cnn_input')\n",
        "    x = layers.Conv2D(64, (3, 3), padding=\"same\", activation=\"relu\")(inputs)\n",
        "    x = layers.MaxPooling2D(pool_size=(2, 2), name='pool_1')(x)\n",
        "    x = layers.Dropout(0.3)(x)\n",
        "\n",
        "    x = layers.Conv2D(64, (3, 3), padding=\"same\", activation=\"relu\")(x)\n",
        "    x = layers.MaxPooling2D(pool_size=(2, 2))(x)\n",
        "    x = layers.Dropout(0.3)(x)\n",
        "\n",
        "    pooledOutput = layers.GlobalAveragePooling2D()(x)\n",
        "    outputs = layers.Dense(embeddingDim, activation='relu')(pooledOutput)\n",
        "\n",
        "    outputs = layers.Lambda(lambda x: tf.math.l2_normalize(x, axis=1), name='l1_normalization')(outputs)\n",
        "    model = Model(inputs, outputs, name='cnn_feature_extractor')\n",
        "    return model"
      ],
      "metadata": {
        "id": "X5t1xg2JTlcT"
      },
      "execution_count": 9,
      "outputs": []
    },
    {
      "cell_type": "code",
      "source": [
        "print(\"[INFO] loading Fashion MNIST dataset...\")\n",
        "(trainX, trainY), (testX, testY) = fashion_mnist.load_data()\n",
        "trainX = trainX / 255.0\n",
        "testX = testX / 255.0\n",
        "\n",
        "trainX = np.expand_dims(trainX, axis=-1)\n",
        "testX = np.expand_dims(testX, axis=-1)\n",
        "\n",
        "print(\"[INFO] preparing positive and negative pairs...\")\n",
        "(pairTrain, labelTrain) = make_pairs(trainX, trainY)\n",
        "(pairTest, labelTest) = make_pairs(testX, testY)\n",
        "\n",
        "IMG_SHAPE = (28, 28, 1)\n",
        "\n",
        "print(\"[INFO] building siamese network...\")\n",
        "imgA = layers.Input(shape=IMG_SHAPE)\n",
        "imgB = layers.Input(shape=IMG_SHAPE)\n",
        "featureExtractor = build_CNN_model(IMG_SHAPE)\n",
        "\n",
        "featsA = featureExtractor(imgA)\n",
        "featsB = featureExtractor(imgB)\n",
        "\n",
        "distance = layers.Lambda(l1_distance)([featsA, featsB])\n"
      ],
      "metadata": {
        "colab": {
          "base_uri": "https://localhost:8080/"
        },
        "id": "sYSOfKDPTdPn",
        "outputId": "e78c728c-afd7-4216-e84c-994260943101"
      },
      "execution_count": 10,
      "outputs": [
        {
          "output_type": "stream",
          "name": "stdout",
          "text": [
            "[INFO] loading Fashion MNIST dataset...\n",
            "[INFO] preparing positive and negative pairs...\n",
            "[INFO] building siamese network...\n"
          ]
        }
      ]
    },
    {
      "cell_type": "code",
      "source": [
        "siamese_model_cnn = Model(inputs=[imgA, imgB], outputs=distance)\n",
        "\n",
        "print(\"[INFO] compiling model...\")\n",
        "siamese_model_cnn.compile(\n",
        "    loss=lambda y_true, y_pred: contrastive_loss(y_true, y_pred, margin=1.0),\n",
        "    optimizer=tf.keras.optimizers.Adam(learning_rate=0.0001),\n",
        "    metrics=[\"accuracy\"]\n",
        ")\n",
        "\n",
        "earlyStopping = EarlyStopping(monitor='val_loss', min_delta=0, patience=3, verbose=1, restore_best_weights=True)\n"
      ],
      "metadata": {
        "colab": {
          "base_uri": "https://localhost:8080/"
        },
        "id": "wgU63DmVTZpM",
        "outputId": "931bf0f3-2c38-4711-d519-1ad5bdaf59a5"
      },
      "execution_count": 11,
      "outputs": [
        {
          "output_type": "stream",
          "name": "stdout",
          "text": [
            "[INFO] compiling model...\n"
          ]
        }
      ]
    },
    {
      "cell_type": "code",
      "source": [
        "print(\"[INFO] training model...\")\n",
        "history = siamese_model_cnn.fit(\n",
        "    [pairTrain[:, 0], pairTrain[:, 1]], labelTrain[:],\n",
        "    validation_data=([pairTest[:, 0], pairTest[:, 1]], labelTest[:]),\n",
        "    batch_size=64,\n",
        "    epochs=20,\n",
        "    callbacks=[earlyStopping]\n",
        ")"
      ],
      "metadata": {
        "colab": {
          "base_uri": "https://localhost:8080/"
        },
        "id": "wDpeP9EDTSaS",
        "outputId": "06cb3e09-844e-4da6-9fcc-568c1fbcc4ae"
      },
      "execution_count": 12,
      "outputs": [
        {
          "output_type": "stream",
          "name": "stdout",
          "text": [
            "[INFO] training model...\n",
            "Epoch 1/20\n",
            "\u001b[1m1875/1875\u001b[0m \u001b[32m━━━━━━━━━━━━━━━━━━━━\u001b[0m\u001b[37m\u001b[0m \u001b[1m19s\u001b[0m 7ms/step - accuracy: 0.6551 - loss: 0.2270 - val_accuracy: 0.8177 - val_loss: 0.1309\n",
            "Epoch 2/20\n",
            "\u001b[1m1875/1875\u001b[0m \u001b[32m━━━━━━━━━━━━━━━━━━━━\u001b[0m\u001b[37m\u001b[0m \u001b[1m14s\u001b[0m 6ms/step - accuracy: 0.8171 - loss: 0.1365 - val_accuracy: 0.8382 - val_loss: 0.1187\n",
            "Epoch 3/20\n",
            "\u001b[1m1875/1875\u001b[0m \u001b[32m━━━━━━━━━━━━━━━━━━━━\u001b[0m\u001b[37m\u001b[0m \u001b[1m11s\u001b[0m 6ms/step - accuracy: 0.8341 - loss: 0.1246 - val_accuracy: 0.8469 - val_loss: 0.1122\n",
            "Epoch 4/20\n",
            "\u001b[1m1875/1875\u001b[0m \u001b[32m━━━━━━━━━━━━━━━━━━━━\u001b[0m\u001b[37m\u001b[0m \u001b[1m21s\u001b[0m 6ms/step - accuracy: 0.8435 - loss: 0.1179 - val_accuracy: 0.8510 - val_loss: 0.1102\n",
            "Epoch 5/20\n",
            "\u001b[1m1875/1875\u001b[0m \u001b[32m━━━━━━━━━━━━━━━━━━━━\u001b[0m\u001b[37m\u001b[0m \u001b[1m12s\u001b[0m 6ms/step - accuracy: 0.8510 - loss: 0.1131 - val_accuracy: 0.8587 - val_loss: 0.1046\n",
            "Epoch 6/20\n",
            "\u001b[1m1875/1875\u001b[0m \u001b[32m━━━━━━━━━━━━━━━━━━━━\u001b[0m\u001b[37m\u001b[0m \u001b[1m20s\u001b[0m 6ms/step - accuracy: 0.8548 - loss: 0.1108 - val_accuracy: 0.8576 - val_loss: 0.1038\n",
            "Epoch 7/20\n",
            "\u001b[1m1875/1875\u001b[0m \u001b[32m━━━━━━━━━━━━━━━━━━━━\u001b[0m\u001b[37m\u001b[0m \u001b[1m11s\u001b[0m 6ms/step - accuracy: 0.8595 - loss: 0.1070 - val_accuracy: 0.8676 - val_loss: 0.1002\n",
            "Epoch 8/20\n",
            "\u001b[1m1875/1875\u001b[0m \u001b[32m━━━━━━━━━━━━━━━━━━━━\u001b[0m\u001b[37m\u001b[0m \u001b[1m12s\u001b[0m 6ms/step - accuracy: 0.8659 - loss: 0.1044 - val_accuracy: 0.8716 - val_loss: 0.0971\n",
            "Epoch 9/20\n",
            "\u001b[1m1875/1875\u001b[0m \u001b[32m━━━━━━━━━━━━━━━━━━━━\u001b[0m\u001b[37m\u001b[0m \u001b[1m20s\u001b[0m 6ms/step - accuracy: 0.8678 - loss: 0.1027 - val_accuracy: 0.8770 - val_loss: 0.0953\n",
            "Epoch 10/20\n",
            "\u001b[1m1875/1875\u001b[0m \u001b[32m━━━━━━━━━━━━━━━━━━━━\u001b[0m\u001b[37m\u001b[0m \u001b[1m20s\u001b[0m 6ms/step - accuracy: 0.8720 - loss: 0.1006 - val_accuracy: 0.8780 - val_loss: 0.0946\n",
            "Epoch 11/20\n",
            "\u001b[1m1875/1875\u001b[0m \u001b[32m━━━━━━━━━━━━━━━━━━━━\u001b[0m\u001b[37m\u001b[0m \u001b[1m11s\u001b[0m 6ms/step - accuracy: 0.8737 - loss: 0.0999 - val_accuracy: 0.8751 - val_loss: 0.0967\n",
            "Epoch 12/20\n",
            "\u001b[1m1875/1875\u001b[0m \u001b[32m━━━━━━━━━━━━━━━━━━━━\u001b[0m\u001b[37m\u001b[0m \u001b[1m21s\u001b[0m 6ms/step - accuracy: 0.8757 - loss: 0.0986 - val_accuracy: 0.8834 - val_loss: 0.0922\n",
            "Epoch 13/20\n",
            "\u001b[1m1875/1875\u001b[0m \u001b[32m━━━━━━━━━━━━━━━━━━━━\u001b[0m\u001b[37m\u001b[0m \u001b[1m12s\u001b[0m 6ms/step - accuracy: 0.8778 - loss: 0.0972 - val_accuracy: 0.8838 - val_loss: 0.0916\n",
            "Epoch 14/20\n",
            "\u001b[1m1875/1875\u001b[0m \u001b[32m━━━━━━━━━━━━━━━━━━━━\u001b[0m\u001b[37m\u001b[0m \u001b[1m20s\u001b[0m 6ms/step - accuracy: 0.8787 - loss: 0.0968 - val_accuracy: 0.8857 - val_loss: 0.0900\n",
            "Epoch 15/20\n",
            "\u001b[1m1875/1875\u001b[0m \u001b[32m━━━━━━━━━━━━━━━━━━━━\u001b[0m\u001b[37m\u001b[0m \u001b[1m11s\u001b[0m 6ms/step - accuracy: 0.8837 - loss: 0.0947 - val_accuracy: 0.8870 - val_loss: 0.0903\n",
            "Epoch 16/20\n",
            "\u001b[1m1875/1875\u001b[0m \u001b[32m━━━━━━━━━━━━━━━━━━━━\u001b[0m\u001b[37m\u001b[0m \u001b[1m11s\u001b[0m 6ms/step - accuracy: 0.8845 - loss: 0.0936 - val_accuracy: 0.8910 - val_loss: 0.0880\n",
            "Epoch 17/20\n",
            "\u001b[1m1875/1875\u001b[0m \u001b[32m━━━━━━━━━━━━━━━━━━━━\u001b[0m\u001b[37m\u001b[0m \u001b[1m12s\u001b[0m 6ms/step - accuracy: 0.8859 - loss: 0.0930 - val_accuracy: 0.8888 - val_loss: 0.0885\n",
            "Epoch 18/20\n",
            "\u001b[1m1875/1875\u001b[0m \u001b[32m━━━━━━━━━━━━━━━━━━━━\u001b[0m\u001b[37m\u001b[0m \u001b[1m12s\u001b[0m 6ms/step - accuracy: 0.8865 - loss: 0.0924 - val_accuracy: 0.8904 - val_loss: 0.0876\n",
            "Epoch 19/20\n",
            "\u001b[1m1875/1875\u001b[0m \u001b[32m━━━━━━━━━━━━━━━━━━━━\u001b[0m\u001b[37m\u001b[0m \u001b[1m20s\u001b[0m 6ms/step - accuracy: 0.8870 - loss: 0.0918 - val_accuracy: 0.8948 - val_loss: 0.0862\n",
            "Epoch 20/20\n",
            "\u001b[1m1875/1875\u001b[0m \u001b[32m━━━━━━━━━━━━━━━━━━━━\u001b[0m\u001b[37m\u001b[0m \u001b[1m20s\u001b[0m 6ms/step - accuracy: 0.8893 - loss: 0.0907 - val_accuracy: 0.8943 - val_loss: 0.0858\n",
            "Restoring model weights from the end of the best epoch: 20.\n"
          ]
        }
      ]
    },
    {
      "cell_type": "code",
      "source": [
        "def plot_training(H, plotPath):\n",
        "    plt.style.use(\"ggplot\")\n",
        "    plt.figure()\n",
        "    plt.plot(H.history[\"loss\"], label=\"train_loss\")\n",
        "    plt.plot(H.history[\"val_loss\"], label=\"val_loss\")\n",
        "    plt.title(\"Training Loss\")\n",
        "    plt.xlabel(\"Epoch #\")\n",
        "    plt.ylabel(\"Loss\")\n",
        "    plt.legend(loc=\"lower left\")\n",
        "    plt.show()\n",
        "\n",
        "plot_training(history, \"training_history.png\")\n"
      ],
      "metadata": {
        "colab": {
          "base_uri": "https://localhost:8080/",
          "height": 477
        },
        "id": "Aws4VPIwTPlM",
        "outputId": "181653af-75d9-4c0c-df3a-e8c8e02040d6"
      },
      "execution_count": 16,
      "outputs": [
        {
          "output_type": "display_data",
          "data": {
            "text/plain": [
              "<Figure size 640x480 with 1 Axes>"
            ],
            "image/png": "[encoded data removed]"
          },
          "metadata": {}
        }
      ]
    },
    {
      "cell_type": "code",
      "source": [
        "print(\"[INFO] evaluating the model...\")\n",
        "predictions = siamese_model_cnn.predict([pairTest[:, 0], pairTest[:, 1]])"
      ],
      "metadata": {
        "colab": {
          "base_uri": "https://localhost:8080/"
        },
        "id": "n2IE3UkkTMFU",
        "outputId": "198bd3e9-91ef-4d95-d2f3-76653e67ed16"
      },
      "execution_count": 17,
      "outputs": [
        {
          "output_type": "stream",
          "name": "stdout",
          "text": [
            "[INFO] evaluating the model...\n",
            "\u001b[1m625/625\u001b[0m \u001b[32m━━━━━━━━━━━━━━━━━━━━\u001b[0m\u001b[37m\u001b[0m \u001b[1m1s\u001b[0m 2ms/step\n"
          ]
        }
      ]
    },
    {
      "cell_type": "code",
      "source": [
        "threshold = 0.5\n",
        "predictions_binary = (predictions > threshold).astype(int)\n"
      ],
      "metadata": {
        "id": "n9yAjptGTID-"
      },
      "execution_count": 18,
      "outputs": []
    },
    {
      "cell_type": "code",
      "source": [
        "accuracy = accuracy_score(labelTest, predictions_binary)\n",
        "precision = precision_score(labelTest, predictions_binary)\n",
        "recall = recall_score(labelTest, predictions_binary)\n",
        "f1 = f1_score(labelTest, predictions_binary)\n"
      ],
      "metadata": {
        "id": "tt-ZxdbdVpZd"
      },
      "execution_count": 19,
      "outputs": []
    },
    {
      "cell_type": "code",
      "source": [
        "\n",
        "print(f\"Accuracy: {accuracy:.4f}\")\n",
        "print(f\"Precision: {precision:.4f}\")\n",
        "print(f\"Recall: {recall:.4f}\")\n",
        "print(f\"F1 Score: {f1:.4f}\")\n"
      ],
      "metadata": {
        "colab": {
          "base_uri": "https://localhost:8080/"
        },
        "id": "1B8xht_eTGyJ",
        "outputId": "b78642db-7880-4aff-f32e-14ed1b6bcdec"
      },
      "execution_count": 20,
      "outputs": [
        {
          "output_type": "stream",
          "name": "stdout",
          "text": [
            "Accuracy: 0.8943\n",
            "Precision: 0.9269\n",
            "Recall: 0.8562\n",
            "F1 Score: 0.8902\n"
          ]
        }
      ]
    }
  ]
}